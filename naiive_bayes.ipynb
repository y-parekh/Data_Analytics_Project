{
 "cells": [
  {
   "cell_type": "markdown",
   "metadata": {},
   "source": [
    "## Simple Naive Bayes"
   ]
  },
  {
   "cell_type": "code",
   "execution_count": null,
   "metadata": {},
   "outputs": [],
   "source": [
    "# Importing libraries\n",
    "import numpy as np \n",
    "import pandas as pd \n",
    "from numpy import array\n",
    "from sklearn.metrics import accuracy_score, confusion_matrix, f1_score, classification_report \n",
    "import re\n",
    "import nltk\n",
    "from nltk.corpus import stopwords\n",
    "from sklearn.model_selection import train_test_split\n",
    "from sklearn.naive_bayes import MultinomialNB\n",
    "from sklearn.preprocessing import LabelEncoder\n",
    "from sklearn.preprocessing import OneHotEncoder"
   ]
  },
  {
   "cell_type": "code",
   "execution_count": 2,
   "metadata": {},
   "outputs": [],
   "source": [
    "# Reading the dataset\n",
    "data = pd.read_csv('/home/alaa/Desktop/Data_Analytics/Tweets.csv')"
   ]
  },
  {
   "cell_type": "markdown",
   "metadata": {},
   "source": [
    "---\n",
    "### Preprocessing"
   ]
  },
  {
   "cell_type": "code",
   "execution_count": 3,
   "metadata": {},
   "outputs": [],
   "source": [
    "# Data cleaning and preprocessing\n",
    "# Removing mentions starting with '@'\n",
    "def remove_mentions(input_tweet):\n",
    "    for i in range(len(input_tweet)):\n",
    "        input_tweet[i] = re.sub(r'@\\w+', '', input_tweet[i])\n",
    "    return input_tweet\n",
    "\n",
    "# Removing hyperlinks starting with 'http'\n",
    "def remove_links(input_tweet):\n",
    "    for i in range(len(input_tweet)):\n",
    "        input_tweet[i] = re.sub(r'http\\S+', '',input_tweet[i])\n",
    "    return input_tweet\n",
    "\n",
    "# Removing stopwords available in stopwords library\n",
    "def remove_stopwords(input_tweet):\n",
    "    list_of_stopwords = stopwords.words('english')\n",
    "    # Keeping meaningful stopwords\n",
    "    important_stopwords = [\"not\", \"no\"]\n",
    "    words = input_tweet.split()\n",
    "    clean_stopwords = [word for word in words \n",
    "                       if (word not in list_of_stopwords or word in important_stopwords) and len(word) > 1]\n",
    "    return \" \".join(clean_stopwords)\n",
    "\n",
    "# Removing all punctuation symbols\n",
    "def remove_punctuation(input_tweet):\n",
    "    for i in range(len(input_tweet)):\n",
    "        input_tweet[i] = re.sub(r'[^\\w\\s]','',input_tweet[i])\n",
    "    return input_tweet\n",
    "\n",
    "# Converting text to lowercase\n",
    "def lower_case(input_tweet):\n",
    "    for i in range(len(input_tweet)):\n",
    "        input_tweet[i] = input_tweet[i].lower()\n",
    "    return input_tweet"
   ]
  },
  {
   "cell_type": "code",
   "execution_count": 4,
   "metadata": {},
   "outputs": [],
   "source": [
    "# Pre-processing steps\n",
    "data_new = data[['text', 'airline_sentiment']]\n",
    "preprocessed_data = data_new.apply(remove_mentions).apply(remove_links).apply(remove_punctuation).apply(lower_case)\n",
    "cleaned_tweets = []\n",
    "for tweets in preprocessed_data.text:\n",
    "    clean_stopwords = remove_stopwords(tweets)\n",
    "    cleaned_tweets.append(clean_stopwords)\n",
    "\n",
    "X = cleaned_tweets\n",
    "Y = preprocessed_data['airline_sentiment']\n",
    "\n",
    "# Mapping for Label Encoding\n",
    "Y = Y.map({'negative':0, 'positive':1, 'neutral':2}).astype(int)"
   ]
  },
  {
   "cell_type": "markdown",
   "metadata": {},
   "source": [
    "---\n",
    "### Performing Naive Bayes"
   ]
  },
  {
   "cell_type": "code",
   "execution_count": 5,
   "metadata": {},
   "outputs": [],
   "source": [
    "# Label Encoding for features\n",
    "values = array(X)\n",
    "label_encoder = LabelEncoder()\n",
    "integer_encoded = label_encoder.fit_transform(values)\n",
    "onehot_encoder = OneHotEncoder(sparse=False)\n",
    "integer_encoded = integer_encoded.reshape(len(integer_encoded), 1)\n",
    "onehot_encoded = onehot_encoder.fit_transform(integer_encoded)"
   ]
  },
  {
   "cell_type": "code",
   "execution_count": 6,
   "metadata": {},
   "outputs": [],
   "source": [
    "# Splitting dataset into train, test and validation sets\n",
    "X_train, X_test, y_train, y_test = train_test_split(onehot_encoded, Y, test_size=0.15, random_state=20)\n",
    "X_train, X_val, y_train, y_val = train_test_split(X_train, y_train, test_size=0.18, random_state=20)"
   ]
  },
  {
   "cell_type": "code",
   "execution_count": 7,
   "metadata": {},
   "outputs": [],
   "source": [
    "# Function to print results\n",
    "def results(labels, pred):\n",
    "    print(confusion_matrix(labels,pred))  \n",
    "    print(classification_report(labels,pred))  \n",
    "    print(accuracy_score(labels, pred))"
   ]
  },
  {
   "cell_type": "code",
   "execution_count": 8,
   "metadata": {},
   "outputs": [
    {
     "name": "stdout",
     "output_type": "stream",
     "text": [
      "Validation Accuracy of Naiive Bayes: 0.6441964285714286\n"
     ]
    }
   ],
   "source": [
    "# Initializing Multinomial Naive Bayes\n",
    "clf = MultinomialNB()\n",
    "clf.fit(X_train, y_train)\n",
    "\n",
    "# Testing accuracy on Validation data\n",
    "print (\"Validation Accuracy of Naiive Bayes: %s\" % ( accuracy_score(y_val, clf.predict(X_val))))"
   ]
  },
  {
   "cell_type": "code",
   "execution_count": 9,
   "metadata": {},
   "outputs": [
    {
     "name": "stdout",
     "output_type": "stream",
     "text": [
      "Test Accuracy of Naiive Bayes: 0.651183970856102\n",
      "[[1394    0    0]\n",
      " [ 334   27    1]\n",
      " [ 430    1    9]]\n",
      "              precision    recall  f1-score   support\n",
      "\n",
      "           0       0.65      1.00      0.78      1394\n",
      "           1       0.96      0.07      0.14       362\n",
      "           2       0.90      0.02      0.04       440\n",
      "\n",
      "    accuracy                           0.65      2196\n",
      "   macro avg       0.84      0.37      0.32      2196\n",
      "weighted avg       0.75      0.65      0.53      2196\n",
      "\n",
      "0.651183970856102\n"
     ]
    }
   ],
   "source": [
    "# Testing accuracy on test data and printing results\n",
    "print (\"Test Accuracy of Naiive Bayes: %s\" % ( accuracy_score(y_test, clf.predict(X_test))))\n",
    "results(y_test, clf.predict(X_test))"
   ]
  }
 ],
 "metadata": {
  "kernelspec": {
   "display_name": "Python 3",
   "language": "python",
   "name": "python3"
  },
  "language_info": {
   "codemirror_mode": {
    "name": "ipython",
    "version": 3
   },
   "file_extension": ".py",
   "mimetype": "text/x-python",
   "name": "python",
   "nbconvert_exporter": "python",
   "pygments_lexer": "ipython3",
   "version": "3.6.9"
  }
 },
 "nbformat": 4,
 "nbformat_minor": 4
}
